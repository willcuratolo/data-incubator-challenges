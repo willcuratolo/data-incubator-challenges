{
  "nbformat": 4,
  "nbformat_minor": 0,
  "metadata": {
    "colab": {
      "name": "Data_incubator_challenge_cards.ipynb",
      "version": "0.3.2",
      "provenance": [],
      "collapsed_sections": []
    },
    "kernelspec": {
      "name": "python3",
      "display_name": "Python 3"
    }
  },
  "cells": [
    {
      "metadata": {
        "id": "bz8YUQDLFcX_",
        "colab_type": "code",
        "colab": {}
      },
      "cell_type": "code",
      "source": [
        "import numpy as np"
      ],
      "execution_count": 0,
      "outputs": []
    },
    {
      "metadata": {
        "id": "R2nTx9s7Dlc-",
        "colab_type": "code",
        "colab": {}
      },
      "cell_type": "code",
      "source": [
        "# this simulates a game with a deck of n cards divided evenly into m suits\n",
        "def play_game(n, m): \n",
        "  # calculate initial variables and initialize empty 'decks'\n",
        "  cards_per_suit = n // m\n",
        "  total_cards_remaining = n\n",
        "  remaining_cards = []\n",
        "  drawn_cards = []\n",
        "\n",
        "  # populate the deck with correct number of each suit\n",
        "  for i in range(1,m+1):\n",
        "    for j in range(cards_per_suit):\n",
        "      remaining_cards.append(i)\n",
        "\n",
        "  # draw cards\n",
        "  while total_cards_remaining > 0:\n",
        "    random_index = np.random.randint(low = 0, high = len(remaining_cards))\n",
        "    drawn_card = remaining_cards[random_index]\n",
        "    del(remaining_cards[random_index])\n",
        "    drawn_cards.append(drawn_card)\n",
        "    total_cards_remaining = total_cards_remaining - 1\n",
        "\n",
        "  # calculate points\n",
        "  p = 0\n",
        "  for i in range(len(drawn_cards)-1):\n",
        "    if drawn_cards[i] == drawn_cards[i+1]:\n",
        "      p += 1\n",
        "      \n",
        "  return(p)"
      ],
      "execution_count": 0,
      "outputs": []
    },
    {
      "metadata": {
        "id": "M3mAY0BOIIZb",
        "colab_type": "code",
        "outputId": "604c9c8d-5ca6-4b5d-e2a7-7f778f5205a1",
        "colab": {
          "base_uri": "https://localhost:8080/",
          "height": 68
        }
      },
      "cell_type": "code",
      "source": [
        "# play many games to find mean/sd\n",
        "def play_many_games(number_of_games, n, m):\n",
        "  # initialize constants and empty array\n",
        "  results = np.array([])\n",
        "  i = 0\n",
        " \n",
        "  # play many games\n",
        "  while i < number_of_games:\n",
        "    p = play_game(n, m)\n",
        "    results = np.append(results, p)\n",
        "    i += 1\n",
        "  return(results)\n",
        "\n",
        "# simulate many games with the two decks\n",
        "first_game = play_many_games(10 ** 5, 26, 2)\n",
        "second_game = play_many_games(10 ** 5, 52, 4)\n",
        "\n",
        "print([np.mean(first_game), np.std(first_game)])\n",
        "print([np.mean(second_game), np.std(second_game)])\n",
        "\n",
        "# calculate conditional probabilities\n",
        "game_1_over_6 = (first_game > 6).sum()\n",
        "game_1_over_12 = (first_game > 12).sum()\n",
        "game_2_over_6 = (second_game > 6).sum()\n",
        "game_2_over_12 = (second_game > 12).sum()\n",
        "\n",
        "game_1_cond_prob = game_1_over_12 / game_1_over_6\n",
        "game_2_cond_prob = game_2_over_12 / game_2_over_6\n",
        "\n",
        "print([game_1_cond_prob, game_2_cond_prob])\n",
        "\n"
      ],
      "execution_count": 0,
      "outputs": [
        {
          "output_type": "stream",
          "text": [
            "[11.99805, 2.4986248612987105]\n",
            "[12.00084, 3.021658368247476]\n",
            "[0.42273703838826054, 0.43645283717485883]\n"
          ],
          "name": "stdout"
        }
      ]
    },
    {
      "metadata": {
        "id": "Mb2SopY6P13W",
        "colab_type": "text"
      },
      "cell_type": "markdown",
      "source": [
        "\n",
        "[0.42455248148635916, 0.4341449860036226]\n",
        "[0.42270235211852814, 0.4335171505586535]"
      ]
    },
    {
      "metadata": {
        "id": "dsSlVJgPIB38",
        "colab_type": "code",
        "outputId": "4103ac96-edae-4cf9-c932-2814c7c51b6f",
        "colab": {
          "base_uri": "https://localhost:8080/",
          "height": 34
        }
      },
      "cell_type": "code",
      "source": [
        "play_game(12, 4)"
      ],
      "execution_count": 0,
      "outputs": [
        {
          "output_type": "execute_result",
          "data": {
            "text/plain": [
              "3"
            ]
          },
          "metadata": {
            "tags": []
          },
          "execution_count": 4
        }
      ]
    },
    {
      "metadata": {
        "id": "PJ-KAptBFowd",
        "colab_type": "code",
        "outputId": "b3d1b086-e9f0-4f36-8048-328a6e53aede",
        "colab": {
          "base_uri": "https://localhost:8080/",
          "height": 102
        }
      },
      "cell_type": "code",
      "source": [
        "print(colors_remaining)\n",
        "print(drawn_cards)\n",
        "print(cards_per_suit)\n",
        "print(drawn_cards)\n",
        "print(p)\n"
      ],
      "execution_count": 0,
      "outputs": [
        {
          "output_type": "stream",
          "text": [
            "[[3. 3.]]\n",
            "[2, 3, 1, 4, 4, 3, 2, 4, 2, 1, 3, 1]\n",
            "3\n",
            "[2, 3, 1, 4, 4, 3, 2, 4, 2, 1, 3, 1]\n",
            "1\n"
          ],
          "name": "stdout"
        }
      ]
    },
    {
      "metadata": {
        "id": "cp3Ul4GnFsKf",
        "colab_type": "code",
        "colab": {}
      },
      "cell_type": "code",
      "source": [
        ""
      ],
      "execution_count": 0,
      "outputs": []
    }
  ]
}